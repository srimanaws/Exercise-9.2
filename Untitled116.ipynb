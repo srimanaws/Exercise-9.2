{
 "cells": [
  {
   "cell_type": "code",
   "execution_count": 1,
   "id": "9e62ef2a-2a91-4ee0-923b-516c49d520a0",
   "metadata": {},
   "outputs": [
    {
     "name": "stdout",
     "output_type": "stream",
     "text": [
      "Grades:\n",
      "45\n",
      "87\n",
      "95\n",
      "65\n",
      "\n",
      "Total of all grades: 292\n",
      "Total number of grades: 4\n",
      "Average grade: 73.0\n"
     ]
    }
   ],
   "source": [
    "# Exercise 9.2 by sriman\n",
    "def read_grades():\n",
    "    # Open the text file where we saved the grades\n",
    "    with open('grades.txt', 'r') as file:\n",
    "        total = 0\n",
    "        count = 0\n",
    "        \n",
    "        # Print the grades as they’re read from the file\n",
    "        print(\"Grades:\")\n",
    "        for line in file:\n",
    "            grade = int(line.strip())\n",
    "            print(grade)\n",
    "            total += grade  # Add each grade to the total\n",
    "            count += 1  # Increment the count of grades\n",
    "        \n",
    "        # Print the total and average of the grades\n",
    "        print(f\"\\nTotal of all grades: {total}\")\n",
    "        print(f\"Total number of grades: {count}\")\n",
    "        print(f\"Average grade: {total / count if count > 0 else 0}\")\n",
    "\n",
    "read_grades()\n"
   ]
  },
  {
   "cell_type": "code",
   "execution_count": null,
   "id": "42eb7168-53dc-4ea6-aec2-f143defd9bf0",
   "metadata": {},
   "outputs": [],
   "source": []
  }
 ],
 "metadata": {
  "kernelspec": {
   "display_name": "Python 3 (ipykernel)",
   "language": "python",
   "name": "python3"
  },
  "language_info": {
   "codemirror_mode": {
    "name": "ipython",
    "version": 3
   },
   "file_extension": ".py",
   "mimetype": "text/x-python",
   "name": "python",
   "nbconvert_exporter": "python",
   "pygments_lexer": "ipython3",
   "version": "3.12.4"
  }
 },
 "nbformat": 4,
 "nbformat_minor": 5
}
